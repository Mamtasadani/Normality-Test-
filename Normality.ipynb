{
 "cells": [
  {
   "cell_type": "code",
   "execution_count": 1,
   "metadata": {},
   "outputs": [
    {
     "name": "stdout",
     "output_type": "stream",
     "text": [
      "----Normality test using Shapiro-Wilk Test-----\n",
      "Statistics=0.935, p=0.000\n",
      "Sample does not look Gaussian (reject H0)\n",
      "----Normality test using DAgostinos K2 Test-----\n",
      "Statistics=32.176, p=0.000\n",
      "Sample does not look Gaussian (reject H0)\n",
      "----Normality test using Anderson Darling Test-----\n",
      "Statistic: 1.581\n",
      "15.000: 0.553, data does not look normal (reject H0)\n",
      "10.000: 0.630, data does not look normal (reject H0)\n",
      "5.000: 0.756, data does not look normal (reject H0)\n",
      "2.500: 0.882, data does not look normal (reject H0)\n",
      "1.000: 1.049, data does not look normal (reject H0)\n"
     ]
    },
    {
     "ename": "NameError",
     "evalue": "name 'qqplot' is not defined",
     "output_type": "error",
     "traceback": [
      "\u001b[1;31m---------------------------------------------------------------------------\u001b[0m",
      "\u001b[1;31mNameError\u001b[0m                                 Traceback (most recent call last)",
      "\u001b[1;32m<ipython-input-1-c7677e64d02c>\u001b[0m in \u001b[0;36m<module>\u001b[1;34m()\u001b[0m\n\u001b[0;32m     50\u001b[0m \u001b[1;33m\u001b[0m\u001b[0m\n\u001b[0;32m     51\u001b[0m \u001b[1;31m#QQ plot showing the scatter plot of points in a diagonal line\u001b[0m\u001b[1;33m\u001b[0m\u001b[1;33m\u001b[0m\u001b[0m\n\u001b[1;32m---> 52\u001b[1;33m \u001b[0mqqplot\u001b[0m\u001b[1;33m(\u001b[0m\u001b[0mdata1\u001b[0m\u001b[1;33m,\u001b[0m \u001b[0mline\u001b[0m\u001b[1;33m=\u001b[0m\u001b[1;34m's'\u001b[0m\u001b[1;33m)\u001b[0m\u001b[1;33m\u001b[0m\u001b[0m\n\u001b[0m\u001b[0;32m     53\u001b[0m \u001b[0mplt\u001b[0m\u001b[1;33m.\u001b[0m\u001b[0mshow\u001b[0m\u001b[1;33m(\u001b[0m\u001b[1;33m)\u001b[0m\u001b[1;33m\u001b[0m\u001b[0m\n\u001b[0;32m     54\u001b[0m \u001b[1;33m\u001b[0m\u001b[0m\n",
      "\u001b[1;31mNameError\u001b[0m: name 'qqplot' is not defined"
     ]
    }
   ],
   "source": [
    "#Load a standard machine learning dataset and apply normality tests to each real-valued variable.\n",
    "import pandas as pd\n",
    "import numpy as np\n",
    "import matplotlib.pyplot as plt\n",
    "from scipy.stats import shapiro\n",
    "from scipy.stats import anderson\n",
    "from scipy.stats import normaltest\n",
    "from scipy.stats import rankdata\n",
    "file = 'D:\\\\Cryotherapy.xlsx'\n",
    "# Load spreadsheet\n",
    "xl = pd.ExcelFile(file)\n",
    "# Print the sheet names\n",
    "#print(xl.sheet_names)\n",
    "# Load a sheet into a DataFrame by name: df1\n",
    "df1 = xl.parse('CrayoDataset')\n",
    "# Select columns from dataset\n",
    "r1=df1.iloc[:,[3]]\n",
    "#print(r1)\n",
    "data1=rankdata(r1)\n",
    "stat, p = shapiro(data1)\n",
    "print('----Normality test using Shapiro-Wilk Test-----')\n",
    "print('Statistics=%.3f, p=%.3f' % (stat, p))\n",
    "# interpret\n",
    "alpha = 0.05\n",
    "if p > alpha:\n",
    "\tprint('Sample looks Gaussian (accept H0)')\n",
    "else:\n",
    "\tprint('Sample does not look Gaussian (reject H0)')\n",
    "    ###################################\n",
    "stat, p = normaltest(data1)\n",
    "print('----Normality test using DAgostinos K2 Test-----')\n",
    "print('Statistics=%.3f, p=%.3f' % (stat, p))\n",
    "# interpret\n",
    "alpha = 0.05\n",
    "if p > alpha:\n",
    "\tprint('Sample looks Gaussian (accept H0)')\n",
    "else:\n",
    "\tprint('Sample does not look Gaussian (reject H0)')\n",
    " ###################################  \n",
    "result = anderson(data1)    \n",
    "print('----Normality test using Anderson Darling Test-----')\n",
    "print('Statistic: %.3f' % result.statistic)\n",
    "p = 0\n",
    "for i in range(len(result.critical_values)):\n",
    "\tsl, cv = result.significance_level[i], result.critical_values[i]\n",
    "\tif result.statistic < result.critical_values[i]:\n",
    "\t\tprint('%.3f: %.3f, data looks normal (accept H0)' % (sl, cv))\n",
    "\telse:\n",
    "\t\tprint('%.3f: %.3f, data does not look normal (reject H0)' % (sl, cv))\n",
    "\n",
    "#QQ plot showing the scatter plot of points in a diagonal line\n",
    "qqplot(data1, line='s')\n",
    "plt.show()\n",
    "\n"
   ]
  },
  {
   "cell_type": "code",
   "execution_count": null,
   "metadata": {},
   "outputs": [],
   "source": []
  }
 ],
 "metadata": {
  "kernelspec": {
   "display_name": "Python 3",
   "language": "python",
   "name": "python3"
  },
  "language_info": {
   "codemirror_mode": {
    "name": "ipython",
    "version": 3
   },
   "file_extension": ".py",
   "mimetype": "text/x-python",
   "name": "python",
   "nbconvert_exporter": "python",
   "pygments_lexer": "ipython3",
   "version": "3.6.4"
  }
 },
 "nbformat": 4,
 "nbformat_minor": 2
}
